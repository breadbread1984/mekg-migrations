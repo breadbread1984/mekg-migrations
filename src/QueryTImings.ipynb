{
 "cells": [
  {
   "cell_type": "code",
   "execution_count": 3,
   "id": "37068d88-dda2-4872-ab24-416f919a583a",
   "metadata": {},
   "outputs": [],
   "source": [
    "import os\n",
    "from time import time\n",
    "\n",
    "from mps_client import run_raw_query as run_raw_sql_query\n",
    "from mps_client.core.graph_queries import run_raw_graph_query"
   ]
  },
  {
   "cell_type": "code",
   "execution_count": 4,
   "id": "b85ed80f",
   "metadata": {},
   "outputs": [],
   "source": [
    "def get_queries(foldername):\n",
    "    files_and_dirs = os.listdir(foldername)\n",
    "    files_only = [f for f in files_and_dirs if os.path.isfile(os.path.join(foldername, f))]\n",
    "\n",
    "    queries = []\n",
    "    filenames = []\n",
    "    for f in sorted(files_only):\n",
    "        filenames.append(f)\n",
    "        query = open(f\"{foldername}/{f}\",'r').read()\n",
    "        if 'sql' in foldername.lower():\n",
    "            set_search_path = \"set search_path = 'public_release';\\n\\n\"\n",
    "            query = set_search_path + query\n",
    "\n",
    "        queries.append(query)\n",
    "        \n",
    "    return dict(zip(filenames, queries))\n"
   ]
  },
  {
   "cell_type": "code",
   "execution_count": 6,
   "id": "de24489c-5f11-497f-9d46-fab33434e486",
   "metadata": {},
   "outputs": [
    {
     "name": "stdout",
     "output_type": "stream",
     "text": [
      "query query_1.cypher took 0.81(s)\n",
      "query query_2.cypher took 1.16(s)\n",
      "query query_3.cypher took 0.36(s)\n",
      "query query_4.cypher took 5.71(s)\n"
     ]
    }
   ],
   "source": [
    "queries = get_queries('./queries/cypher')\n",
    "for name, value in queries.items():\n",
    "    start = time()\n",
    "    run_raw_graph_query(value)\n",
    "    duration = time()-start\n",
    "    print(f\"Query {name} took {duration:0.2f}(s)\")"
   ]
  },
  {
   "cell_type": "code",
   "execution_count": 7,
   "id": "91ac58cc-194a-4735-85a9-76ff4f444c42",
   "metadata": {},
   "outputs": [
    {
     "name": "stdout",
     "output_type": "stream",
     "text": [
      "query query_1.sql took 0.38(s)\n",
      "query query_2.sql took 2.05(s)\n",
      "query query_3.sql took 3.62(s)\n",
      "query query_4.sql took 5.13(s)\n"
     ]
    }
   ],
   "source": [
    "queries = get_queries('./queries/sql')\n",
    "for name, value in queries.items():\n",
    "    start = time()\n",
    "    run_raw_sql_query(value)\n",
    "    duration = time()-start\n",
    "    print(f\"Query {name} took {duration:0.2f}(s)\")"
   ]
  }
 ],
 "metadata": {
  "kernelspec": {
   "display_name": "Python 3 (ipykernel)",
   "language": "python",
   "name": "python3"
  },
  "language_info": {
   "codemirror_mode": {
    "name": "ipython",
    "version": 3
   },
   "file_extension": ".py",
   "mimetype": "text/x-python",
   "name": "python",
   "nbconvert_exporter": "python",
   "pygments_lexer": "ipython3",
   "version": "3.10.8"
  },
  "toc-showmarkdowntxt": true,
  "vscode": {
   "interpreter": {
    "hash": "31f2aee4e71d21fbe5cf8b01ff0e069b9275f58929596ceb00d14d90e3e16cd6"
   }
  }
 },
 "nbformat": 4,
 "nbformat_minor": 5
}
